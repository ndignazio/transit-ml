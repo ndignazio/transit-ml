{
 "cells": [
  {
   "cell_type": "code",
   "execution_count": 1,
   "metadata": {},
   "outputs": [],
   "source": [
    "import pandas as pd"
   ]
  },
  {
   "cell_type": "code",
   "execution_count": 2,
   "metadata": {},
   "outputs": [],
   "source": [
    "best_model = pd.read_pickle('best_model.pkl')"
   ]
  },
  {
   "cell_type": "code",
   "execution_count": 3,
   "metadata": {},
   "outputs": [
    {
     "data": {
      "text/plain": [
       "Pipeline(steps=[('scale', StandardScaler()),\n",
       "                ('pf', PolynomialFeatures(degree=1)),\n",
       "                ('lasso', Lasso(alpha=0.001, max_iter=5000))])"
      ]
     },
     "execution_count": 3,
     "metadata": {},
     "output_type": "execute_result"
    }
   ],
   "source": [
    "best_model"
   ]
  },
  {
   "cell_type": "code",
   "execution_count": 4,
   "metadata": {},
   "outputs": [],
   "source": [
    "df = pd.read_pickle('pickle_files/final_data.pkl')"
   ]
  },
  {
   "cell_type": "code",
   "execution_count": 8,
   "metadata": {},
   "outputs": [
    {
     "data": {
      "text/html": [
       "<div>\n",
       "<style scoped>\n",
       "    .dataframe tbody tr th:only-of-type {\n",
       "        vertical-align: middle;\n",
       "    }\n",
       "\n",
       "    .dataframe tbody tr th {\n",
       "        vertical-align: top;\n",
       "    }\n",
       "\n",
       "    .dataframe thead th {\n",
       "        text-align: right;\n",
       "    }\n",
       "</style>\n",
       "<table border=\"1\" class=\"dataframe\">\n",
       "  <thead>\n",
       "    <tr style=\"text-align: right;\">\n",
       "      <th></th>\n",
       "      <th>commuting_ridership</th>\n",
       "      <th>transit_score</th>\n",
       "      <th>carless</th>\n",
       "      <th>median_income</th>\n",
       "      <th>pop_density</th>\n",
       "      <th>pct_white</th>\n",
       "      <th>pct_black</th>\n",
       "    </tr>\n",
       "  </thead>\n",
       "  <tbody>\n",
       "    <tr>\n",
       "      <th>count</th>\n",
       "      <td>1795.000000</td>\n",
       "      <td>1795.000000</td>\n",
       "      <td>1795.000000</td>\n",
       "      <td>1794.000000</td>\n",
       "      <td>1795.000000</td>\n",
       "      <td>1795.000000</td>\n",
       "      <td>1795.000000</td>\n",
       "    </tr>\n",
       "    <tr>\n",
       "      <th>mean</th>\n",
       "      <td>0.167428</td>\n",
       "      <td>44.074652</td>\n",
       "      <td>0.092390</td>\n",
       "      <td>66810.863434</td>\n",
       "      <td>4244.255876</td>\n",
       "      <td>0.579734</td>\n",
       "      <td>0.250422</td>\n",
       "    </tr>\n",
       "    <tr>\n",
       "      <th>std</th>\n",
       "      <td>0.145940</td>\n",
       "      <td>23.241258</td>\n",
       "      <td>0.112493</td>\n",
       "      <td>36035.932895</td>\n",
       "      <td>5008.674506</td>\n",
       "      <td>0.299826</td>\n",
       "      <td>0.332813</td>\n",
       "    </tr>\n",
       "    <tr>\n",
       "      <th>min</th>\n",
       "      <td>0.000000</td>\n",
       "      <td>0.000000</td>\n",
       "      <td>0.000000</td>\n",
       "      <td>3558.000000</td>\n",
       "      <td>9.168791</td>\n",
       "      <td>0.000000</td>\n",
       "      <td>0.000000</td>\n",
       "    </tr>\n",
       "    <tr>\n",
       "      <th>25%</th>\n",
       "      <td>0.047487</td>\n",
       "      <td>27.000000</td>\n",
       "      <td>0.012250</td>\n",
       "      <td>41287.750000</td>\n",
       "      <td>1262.264135</td>\n",
       "      <td>0.402264</td>\n",
       "      <td>0.024442</td>\n",
       "    </tr>\n",
       "    <tr>\n",
       "      <th>50%</th>\n",
       "      <td>0.120577</td>\n",
       "      <td>43.000000</td>\n",
       "      <td>0.041739</td>\n",
       "      <td>58406.500000</td>\n",
       "      <td>2576.257997</td>\n",
       "      <td>0.663640</td>\n",
       "      <td>0.069164</td>\n",
       "    </tr>\n",
       "    <tr>\n",
       "      <th>75%</th>\n",
       "      <td>0.260351</td>\n",
       "      <td>64.000000</td>\n",
       "      <td>0.137177</td>\n",
       "      <td>84944.000000</td>\n",
       "      <td>5759.929627</td>\n",
       "      <td>0.827443</td>\n",
       "      <td>0.353356</td>\n",
       "    </tr>\n",
       "    <tr>\n",
       "      <th>max</th>\n",
       "      <td>0.740741</td>\n",
       "      <td>100.000000</td>\n",
       "      <td>0.675926</td>\n",
       "      <td>250001.000000</td>\n",
       "      <td>101928.125283</td>\n",
       "      <td>0.992210</td>\n",
       "      <td>1.000000</td>\n",
       "    </tr>\n",
       "  </tbody>\n",
       "</table>\n",
       "</div>"
      ],
      "text/plain": [
       "       commuting_ridership  transit_score      carless  median_income  \\\n",
       "count          1795.000000    1795.000000  1795.000000    1794.000000   \n",
       "mean              0.167428      44.074652     0.092390   66810.863434   \n",
       "std               0.145940      23.241258     0.112493   36035.932895   \n",
       "min               0.000000       0.000000     0.000000    3558.000000   \n",
       "25%               0.047487      27.000000     0.012250   41287.750000   \n",
       "50%               0.120577      43.000000     0.041739   58406.500000   \n",
       "75%               0.260351      64.000000     0.137177   84944.000000   \n",
       "max               0.740741     100.000000     0.675926  250001.000000   \n",
       "\n",
       "         pop_density    pct_white    pct_black  \n",
       "count    1795.000000  1795.000000  1795.000000  \n",
       "mean     4244.255876     0.579734     0.250422  \n",
       "std      5008.674506     0.299826     0.332813  \n",
       "min         9.168791     0.000000     0.000000  \n",
       "25%      1262.264135     0.402264     0.024442  \n",
       "50%      2576.257997     0.663640     0.069164  \n",
       "75%      5759.929627     0.827443     0.353356  \n",
       "max    101928.125283     0.992210     1.000000  "
      ]
     },
     "execution_count": 8,
     "metadata": {},
     "output_type": "execute_result"
    }
   ],
   "source": [
    "df[['commuting_ridership', 'transit_score', 'carless', 'median_income', 'pop_density', 'pct_white', 'pct_black']].describe()"
   ]
  },
  {
   "cell_type": "code",
   "execution_count": 9,
   "metadata": {},
   "outputs": [
    {
     "data": {
      "text/plain": [
       "(1795, 30)"
      ]
     },
     "execution_count": 9,
     "metadata": {},
     "output_type": "execute_result"
    }
   ],
   "source": [
    "df.shape"
   ]
  },
  {
   "cell_type": "code",
   "execution_count": null,
   "metadata": {},
   "outputs": [],
   "source": []
  }
 ],
 "metadata": {
  "kernelspec": {
   "display_name": "Python 3",
   "language": "python",
   "name": "python3"
  },
  "language_info": {
   "codemirror_mode": {
    "name": "ipython",
    "version": 3
   },
   "file_extension": ".py",
   "mimetype": "text/x-python",
   "name": "python",
   "nbconvert_exporter": "python",
   "pygments_lexer": "ipython3",
   "version": "3.7.1"
  }
 },
 "nbformat": 4,
 "nbformat_minor": 2
}
